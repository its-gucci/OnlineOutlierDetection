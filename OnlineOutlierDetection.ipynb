{
 "cells": [
  {
   "cell_type": "code",
   "execution_count": 1,
   "metadata": {
    "collapsed": false
   },
   "outputs": [],
   "source": [
    "import numpy as np\n",
    "from sklearn.linear_model import PassiveAggressiveClassifier\n",
    "from sklearn import svm\n",
    "from sklearn.metrics import accuracy_score"
   ]
  },
  {
   "cell_type": "code",
   "execution_count": 2,
   "metadata": {
    "collapsed": false
   },
   "outputs": [],
   "source": [
    "#generate random training data from a normal distribution\n",
    "X_0 = 0.3 * np.random.randn(100, 2) + 1\n",
    "X_1 = 0.3 * np.random.randn(100, 2) + 1\n",
    "X_2 = 0.3 * np.random.randn(20, 2) + 1"
   ]
  },
  {
   "cell_type": "code",
   "execution_count": 3,
   "metadata": {
    "collapsed": true
   },
   "outputs": [],
   "source": [
    "#transformation for a two dimensional point so we can use linear svm methods\n",
    "def quadratic(point):\n",
    "    x = point[0]\n",
    "    y = point[1]\n",
    "    return [1, x, y, x * x, x * y, y * y]"
   ]
  },
  {
   "cell_type": "code",
   "execution_count": 4,
   "metadata": {
    "collapsed": false
   },
   "outputs": [],
   "source": [
    "#transform our datapoints to this higher dimensional space\n",
    "trans_X_0 = [0] * len(X_0)\n",
    "trans_X_1 = [0] * len(X_1)\n",
    "trans_X_2 = [0] * len(X_2)\n",
    "\n",
    "for i in range(len(X_0)):\n",
    "    trans_X_0[i] = quadratic(X_0[i])\n",
    "for i in range(len(X_1)):\n",
    "    trans_X_1[i] = quadratic(X_1[i])\n",
    "for i in range(len(X_2)):\n",
    "    trans_X_2[i] = quadratic(X_2[i])\n",
    "\n",
    "datasets = [trans_X_1, trans_X_2]"
   ]
  },
  {
   "cell_type": "code",
   "execution_count": 5,
   "metadata": {
    "collapsed": false
   },
   "outputs": [],
   "source": [
    "#classify our data into outliers and inliers, initially we'll do this with a one-class SVM\n",
    "clf0 = svm.OneClassSVM(nu=0.1, kernel=\"rbf\", gamma=\"auto\")\n",
    "clf0.fit(X_0)\n",
    "#create labels to train our linear svm\n",
    "Y = clf0.predict(X_0)"
   ]
  },
  {
   "cell_type": "code",
   "execution_count": 6,
   "metadata": {
    "collapsed": false
   },
   "outputs": [],
   "source": [
    "#train the linear svm using partial_fit so we can online train\n",
    "clf = PassiveAggressiveClassifier()\n",
    "clf.partial_fit(trans_X_0, Y, classes=[-1, 1])\n",
    "\n",
    "#keep track of classifier at each point in time\n",
    "classifiers = [clf]"
   ]
  },
  {
   "cell_type": "code",
   "execution_count": 7,
   "metadata": {
    "collapsed": false
   },
   "outputs": [],
   "source": [
    "#train subsequent datasets\n",
    "for dataset in datasets:\n",
    "    temp_Y = clf.predict(dataset)\n",
    "    if accuracy_score(temp_Y, [1] * len(temp_Y)) > 0.5:\n",
    "        clf.partial_fit(dataset, temp_Y)\n",
    "    classifiers.append(clf)"
   ]
  },
  {
   "cell_type": "code",
   "execution_count": null,
   "metadata": {
    "collapsed": true
   },
   "outputs": [],
   "source": []
  }
 ],
 "metadata": {
  "kernelspec": {
   "display_name": "Python [conda root]",
   "language": "python",
   "name": "conda-root-py"
  },
  "language_info": {
   "codemirror_mode": {
    "name": "ipython",
    "version": 2
   },
   "file_extension": ".py",
   "mimetype": "text/x-python",
   "name": "python",
   "nbconvert_exporter": "python",
   "pygments_lexer": "ipython2",
   "version": "2.7.13"
  }
 },
 "nbformat": 4,
 "nbformat_minor": 2
}
